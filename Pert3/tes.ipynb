{
 "cells": [
  {
   "cell_type": "markdown",
   "metadata": {},
   "source": [
    "# PERT3\n"
   ]
  },
  {
   "cell_type": "code",
   "execution_count": 4,
   "metadata": {},
   "outputs": [
    {
     "name": "stdout",
     "output_type": "stream",
     "text": [
      "hello\n"
     ]
    }
   ],
   "source": [
    "a = \"hello\"\n",
    "print(a)"
   ]
  },
  {
   "cell_type": "code",
   "execution_count": 9,
   "metadata": {},
   "outputs": [
    {
     "name": "stdout",
     "output_type": "stream",
     "text": [
      "Grade : A\n"
     ]
    }
   ],
   "source": [
    "value = int(input(\"Massukan Niai : \"))\n",
    "\n",
    "if value >= 90:\n",
    "    Grade = \"A\"\n",
    "elif value >= 80:\n",
    "    Grade = \"B\"\n",
    "elif value >= 70:\n",
    "    Grade = \"C\"\n",
    "elif value >= 60:\n",
    "    Grade = \"D\"\n",
    "else:\n",
    "    Grade = \"F\"\n",
    "\n",
    "print(f\"Grade : {Grade}\")"
   ]
  },
  {
   "cell_type": "code",
   "execution_count": 5,
   "metadata": {},
   "outputs": [
    {
     "name": "stdout",
     "output_type": "stream",
     "text": [
      "Pass\n",
      "80\n"
     ]
    }
   ],
   "source": [
    "nilai = 80\n",
    "umur = 19\n",
    "\n",
    "if nilai >= 75 and umur <= 20:\n",
    "    print(\"Pass\")\n",
    "else:\n",
    "    print(\"Try Again\")\n",
    "\n",
    "print(nilai)\n"
   ]
  },
  {
   "cell_type": "code",
   "execution_count": null,
   "metadata": {},
   "outputs": [],
   "source": []
  }
 ],
 "metadata": {
  "kernelspec": {
   "display_name": "Python 3",
   "language": "python",
   "name": "python3"
  },
  "language_info": {
   "codemirror_mode": {
    "name": "ipython",
    "version": 3
   },
   "file_extension": ".py",
   "mimetype": "text/x-python",
   "name": "python",
   "nbconvert_exporter": "python",
   "pygments_lexer": "ipython3",
   "version": "3.10.12"
  }
 },
 "nbformat": 4,
 "nbformat_minor": 2
}
