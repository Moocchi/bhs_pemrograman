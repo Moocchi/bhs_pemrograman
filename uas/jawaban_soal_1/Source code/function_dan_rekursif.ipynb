{
 "cells": [
  {
   "cell_type": "markdown",
   "metadata": {},
   "source": [
    "# Function"
   ]
  },
  {
   "cell_type": "code",
   "execution_count": 6,
   "metadata": {},
   "outputs": [
    {
     "name": "stdout",
     "output_type": "stream",
     "text": [
      "Halo, Rivai!\n"
     ]
    }
   ],
   "source": [
    "def sapa(nama):\n",
    "    \"\"\"Fungsi ini menyapa orang yang namanya diberikan sebagai parameter.\"\"\"\n",
    "    print(f\"Halo, {nama}!\")\n",
    "\n",
    "sapa(\"Rivai\")"
   ]
  },
  {
   "cell_type": "markdown",
   "metadata": {},
   "source": [
    "# Recursive"
   ]
  },
  {
   "cell_type": "code",
   "execution_count": 7,
   "metadata": {},
   "outputs": [
    {
     "name": "stdout",
     "output_type": "stream",
     "text": [
      "120\n"
     ]
    }
   ],
   "source": [
    "def faktorial(n):\n",
    "    if n == 1:  \n",
    "        return 1\n",
    "    else:\n",
    "        return n * faktorial(n - 1)  \n",
    "hasil = faktorial(5)\n",
    "print(hasil)  "
   ]
  }
 ],
 "metadata": {
  "kernelspec": {
   "display_name": "Python 3",
   "language": "python",
   "name": "python3"
  },
  "language_info": {
   "codemirror_mode": {
    "name": "ipython",
    "version": 3
   },
   "file_extension": ".py",
   "mimetype": "text/x-python",
   "name": "python",
   "nbconvert_exporter": "python",
   "pygments_lexer": "ipython3",
   "version": "3.10.12"
  }
 },
 "nbformat": 4,
 "nbformat_minor": 2
}
