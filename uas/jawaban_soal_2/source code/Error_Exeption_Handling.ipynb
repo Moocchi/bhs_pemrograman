{
 "cells": [
  {
   "cell_type": "markdown",
   "metadata": {},
   "source": [
    "# Error handling pembagian 0"
   ]
  },
  {
   "cell_type": "code",
   "execution_count": 1,
   "metadata": {},
   "outputs": [
    {
     "name": "stdout",
     "output_type": "stream",
     "text": [
      "Terjadi kesalahan: pembagian dengan nol!\n"
     ]
    }
   ],
   "source": [
    "try:\n",
    "    hasil = 10 / 0\n",
    "except ZeroDivisionError as e:\n",
    "    print(\"Terjadi kesalahan: pembagian dengan nol!\")\n"
   ]
  },
  {
   "cell_type": "markdown",
   "metadata": {},
   "source": [
    "# Error Input"
   ]
  },
  {
   "cell_type": "code",
   "execution_count": 2,
   "metadata": {},
   "outputs": [
    {
     "name": "stdout",
     "output_type": "stream",
     "text": [
      "Input harus berupa angka.\n",
      "Blok finally selalu dijalankan.\n"
     ]
    }
   ],
   "source": [
    "try:\n",
    "    angka = int(input(\"Masukkan sebuah angka: \"))\n",
    "    hasil = 10 / angka\n",
    "except ValueError:\n",
    "    print(\"Input harus berupa angka.\")\n",
    "except ZeroDivisionError:\n",
    "    print(\"Tidak bisa membagi dengan nol.\")\n",
    "else:\n",
    "    print(f\"Hasil: {hasil}\")\n",
    "finally:\n",
    "    print(\"Blok finally selalu dijalankan.\")\n"
   ]
  }
 ],
 "metadata": {
  "kernelspec": {
   "display_name": "Python 3",
   "language": "python",
   "name": "python3"
  },
  "language_info": {
   "codemirror_mode": {
    "name": "ipython",
    "version": 3
   },
   "file_extension": ".py",
   "mimetype": "text/x-python",
   "name": "python",
   "nbconvert_exporter": "python",
   "pygments_lexer": "ipython3",
   "version": "3.10.12"
  }
 },
 "nbformat": 4,
 "nbformat_minor": 2
}
