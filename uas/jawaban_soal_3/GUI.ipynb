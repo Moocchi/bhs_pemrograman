{
 "cells": [
  {
   "cell_type": "code",
   "execution_count": 1,
   "metadata": {},
   "outputs": [],
   "source": [
    "import tkinter as tk\n",
    "from tkinter import messagebox\n",
    "\n",
    "def show_message():\n",
    "    messagebox.showinfo(\"Pesan\", \"Hello, World!\")\n",
    "\n",
    "# Membuat jendela utama\n",
    "root = tk.Tk()\n",
    "root.title(\"Contoh GUI dengan Tkinter\")\n",
    "root.geometry(\"300x200\")\n",
    "\n",
    "# Membuat tombol\n",
    "button = tk.Button(root, text=\"Klik Saya\", command=show_message)\n",
    "button.pack(pady=20)\n",
    "\n",
    "\n",
    "root.mainloop()\n"
   ]
  }
 ],
 "metadata": {
  "kernelspec": {
   "display_name": "Python 3",
   "language": "python",
   "name": "python3"
  },
  "language_info": {
   "codemirror_mode": {
    "name": "ipython",
    "version": 3
   },
   "file_extension": ".py",
   "mimetype": "text/x-python",
   "name": "python",
   "nbconvert_exporter": "python",
   "pygments_lexer": "ipython3",
   "version": "3.10.12"
  }
 },
 "nbformat": 4,
 "nbformat_minor": 2
}
