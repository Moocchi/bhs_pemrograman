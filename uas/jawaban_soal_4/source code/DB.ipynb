{
 "cells": [
  {
   "cell_type": "markdown",
   "metadata": {},
   "source": [
    "# Connect ke DB menggunakan sqllite3"
   ]
  },
  {
   "cell_type": "code",
   "execution_count": 1,
   "metadata": {},
   "outputs": [
    {
     "name": "stdout",
     "output_type": "stream",
     "text": [
      "(1, 'Alice', 30)\n",
      "(2, 'Bob', 25)\n"
     ]
    }
   ],
   "source": [
    "import sqlite3\n",
    "\n",
    "# Membuat atau membuka koneksi ke database\n",
    "conn = sqlite3.connect('contoh.db')\n",
    "\n",
    "# Membuat kursor\n",
    "cursor = conn.cursor()\n",
    "\n",
    "# Membuat tabel\n",
    "cursor.execute('''\n",
    "CREATE TABLE IF NOT EXISTS users (\n",
    "    id INTEGER PRIMARY KEY,\n",
    "    name TEXT,\n",
    "    age INTEGER\n",
    ")\n",
    "''')\n",
    "\n",
    "# Menambahkan data ke tabel\n",
    "cursor.execute('''\n",
    "INSERT INTO users (name, age) VALUES\n",
    "('Alice', 30),\n",
    "('Bob', 25)\n",
    "''')\n",
    "\n",
    "# Commit perubahan\n",
    "conn.commit()\n",
    "\n",
    "# Mengambil data dari tabel\n",
    "cursor.execute('SELECT * FROM users')\n",
    "rows = cursor.fetchall()\n",
    "\n",
    "# Menampilkan data\n",
    "for row in rows:\n",
    "    print(row)\n",
    "\n",
    "# Menutup kursor dan koneksi\n",
    "cursor.close()\n",
    "conn.close()\n"
   ]
  },
  {
   "cell_type": "markdown",
   "metadata": {},
   "source": [
    "# Penjelasan code \n",
    "\n",
    "Penjelasan Kode\n",
    "\n",
    "- import sqlite3: Mengimpor modul SQLite yang sudah termasuk dalam distribusi standar Python.\n",
    "- sqlite3.connect('contoh.db'): Membuka koneksi ke file database 'contoh.db'. Jika file tidak ada, SQLite akan membuatnya.\n",
    "- cursor = conn.cursor(): Membuat objek kursor yang digunakan untuk menjalankan perintah SQL.\n",
    "- cursor.execute('CREATE TABLE IF NOT EXISTS users ...'): Menjalankan perintah SQL untuk membuat tabel jika belum ada.\n",
    "- cursor.execute('INSERT INTO users (name, age) VALUES ...'): Menambahkan data ke tabel.\n",
    "- conn.commit(): Menyimpan perubahan ke database.\n",
    "- cursor.execute('SELECT * FROM users'): Menjalankan perintah SQL untuk mengambil data dari tabel.\n",
    "- rows = cursor.fetchall(): Mengambil semua baris hasil query.\n",
    "- for row in rows: Loop untuk menampilkan data.\n",
    "- cursor.close() dan conn.close(): Menutup kursor dan koneksi ke database."
   ]
  }
 ],
 "metadata": {
  "kernelspec": {
   "display_name": "Python 3",
   "language": "python",
   "name": "python3"
  },
  "language_info": {
   "codemirror_mode": {
    "name": "ipython",
    "version": 3
   },
   "file_extension": ".py",
   "mimetype": "text/x-python",
   "name": "python",
   "nbconvert_exporter": "python",
   "pygments_lexer": "ipython3",
   "version": "3.10.12"
  }
 },
 "nbformat": 4,
 "nbformat_minor": 2
}
